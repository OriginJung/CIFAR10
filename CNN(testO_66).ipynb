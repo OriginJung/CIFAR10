{
  "nbformat": 4,
  "nbformat_minor": 0,
  "metadata": {
    "colab": {
      "provenance": []
    },
    "kernelspec": {
      "name": "python3",
      "display_name": "Python 3"
    },
    "language_info": {
      "name": "python"
    },
    "accelerator": "GPU",
    "gpuClass": "standard"
  },
  "cells": [
    {
      "cell_type": "code",
      "execution_count": 2,
      "metadata": {
        "id": "hxwQ3sKotUrj"
      },
      "outputs": [],
      "source": [
        "import tensorflow as tf\n",
        "import numpy as np\n",
        "from tensorflow.keras.datasets.cifar10 import load_data\n",
        "# keras의 helper 함수인 load_data 함수 Import."
      ]
    },
    {
      "cell_type": "code",
      "source": [
        "# next_batch 유틸리티 함수를 정의\n",
        "def next_batch(num, data, labels):\n",
        "  '''\n",
        "  `num` 개수 만큼의 랜덤한 샘플들과 레이블들을 리턴합니다.\n",
        "  '''\n",
        "  idx = np.arange(0 , len(data))\n",
        "  np.random.shuffle(idx)\n",
        "  idx = idx[:num]\n",
        "  data_shuffle = [data[ i] for i in idx]\n",
        "  labels_shuffle = [labels[ i] for i in idx]\n",
        "\n",
        "  return np.asarray(data_shuffle), np.asarray(labels_shuffle)"
      ],
      "metadata": {
        "id": "q87B-0ycvqDp"
      },
      "execution_count": 3,
      "outputs": []
    },
    {
      "cell_type": "code",
      "source": [
        "# CNN \n",
        "def build_CNN_classifier(x):\n",
        "  x_image = x\n",
        "\n",
        "  # convolutional layer 1 - 하나의 grayscale 이미지를 64개의 특징들(feature)으로 맵핑(maping)\n",
        "  W_conv1 = tf.Variable(tf.truncated_normal(shape=[5, 5, 3, 64], stddev=5e-2))\n",
        "  b_conv1 = tf.Variable(tf.constant(0.1, shape=[64]))\n",
        "  h_conv1 = tf.nn.relu(tf.nn.conv2d(x_image, W_conv1, strides=[1, 1, 1, 1], padding='SAME') + b_conv1)\n",
        "\n",
        "  # Pooling layer 1\n",
        "  h_pool1 = tf.nn.max_pool(h_conv1, ksize=[1, 3, 3, 1], strides=[1, 2, 2, 1], padding='SAME')\n",
        "\n",
        "  # convolutional layer 2 - 32개의 특징들(feature)을 64개의 특징들(feature)로 맵핑(maping)\n",
        "  W_conv2 = tf.Variable(tf.truncated_normal(shape=[5, 5, 64, 64], stddev=5e-2))\n",
        "  b_conv2 = tf.Variable(tf.constant(0.1, shape=[64]))\n",
        "  h_conv2 = tf.nn.relu(tf.nn.conv2d(h_pool1, W_conv2, strides=[1, 1, 1, 1], padding='SAME') + b_conv2)\n",
        "\n",
        "  # pooling layer 2\n",
        "  h_pool2 = tf.nn.max_pool(h_conv2, ksize=[1, 3, 3, 1], strides=[1, 2, 2, 1], padding='SAME')\n",
        "\n",
        "  # convolutional layer 3\n",
        "  W_conv3 = tf.Variable(tf.truncated_normal(shape=[3, 3, 64, 128], stddev=5e-2))\n",
        "  b_conv3 = tf.Variable(tf.constant(0.1, shape=[128]))\n",
        "  h_conv3 = tf.nn.relu(tf.nn.conv2d(h_pool2, W_conv3, strides=[1, 1, 1, 1], padding='SAME') + b_conv3)\n",
        "\n",
        "  # convolutional layer 4\n",
        "  W_conv4 = tf.Variable(tf.truncated_normal(shape=[3, 3, 128, 128], stddev=5e-2))\n",
        "  b_conv4 = tf.Variable(tf.constant(0.1, shape=[128])) \n",
        "  h_conv4 = tf.nn.relu(tf.nn.conv2d(h_conv3, W_conv4, strides=[1, 1, 1, 1], padding='SAME') + b_conv4)\n",
        "\n",
        "  # convolutional layer 5\n",
        "  W_conv5 = tf.Variable(tf.truncated_normal(shape=[3, 3, 128, 128], stddev=5e-2))\n",
        "  b_conv5 = tf.Variable(tf.constant(0.1, shape=[128]))\n",
        "  h_conv5 = tf.nn.relu(tf.nn.conv2d(h_conv4, W_conv5, strides=[1, 1, 1, 1], padding='SAME') + b_conv5)\n",
        "\n",
        "  # Fully Connected Layer 1 - 2번의 downsampling 이후에, 우리의 32x32 이미지는 8x8x128 특징맵(feature map)이 됨.\n",
        "  # 이를 384개의 특징들로 맵핑(maping)\n",
        "  W_fc1 = tf.Variable(tf.truncated_normal(shape=[8 * 8 * 128, 384], stddev=5e-2))\n",
        "  b_fc1 = tf.Variable(tf.constant(0.1, shape=[384]))\n",
        "\n",
        "  h_conv5_flat = tf.reshape(h_conv5, [-1, 8*8*128])\n",
        "  h_fc1 = tf.nn.relu(tf.matmul(h_conv5_flat, W_fc1) + b_fc1)\n",
        "\n",
        "  # Dropout - 모델의 복잡도 컨트롤. 특징들의 co-adaptation 방지\n",
        "  h_fc1_drop = tf.nn.dropout(h_fc1, keep_prob) \n",
        "\n",
        "  # Fully Connected Layer 2 - 384개의 특징들(feature)을 10개의 클래스-airplane, automobile, bird...-로 맵핑(maping)\n",
        "  W_fc2 = tf.Variable(tf.truncated_normal(shape=[384, 10], stddev=5e-2))\n",
        "  b_fc2 = tf.Variable(tf.constant(0.1, shape=[10]))\n",
        "  logits = tf.matmul(h_fc1_drop,W_fc2) + b_fc2\n",
        "  y_pred = tf.nn.softmax(logits)\n",
        "\n",
        "  return y_pred, logits"
      ],
      "metadata": {
        "id": "MoyQAs32vqF3"
      },
      "execution_count": 4,
      "outputs": []
    },
    {
      "cell_type": "code",
      "source": [
        "import tensorflow.compat.v1 as tf\n",
        "tf.disable_v2_behavior()\n",
        "\n",
        "# 인풋 아웃풋 데이터, 드롭아웃 확률을 입력받기위한 플레이스홀더 정의\n",
        "x = tf.placeholder(tf.float32, shape=[None, 32, 32, 3])\n",
        "y = tf.placeholder(tf.float32, shape=[None, 10])\n",
        "keep_prob = tf.placeholder(tf.float32)"
      ],
      "metadata": {
        "colab": {
          "base_uri": "https://localhost:8080/"
        },
        "id": "5NsrJ5ZpvqId",
        "outputId": "72a0e830-d322-4a55-88dd-9a85182b4e7c"
      },
      "execution_count": 6,
      "outputs": [
        {
          "output_type": "stream",
          "name": "stderr",
          "text": [
            "WARNING:tensorflow:From /usr/local/lib/python3.9/dist-packages/tensorflow/python/compat/v2_compat.py:107: disable_resource_variables (from tensorflow.python.ops.variable_scope) is deprecated and will be removed in a future version.\n",
            "Instructions for updating:\n",
            "non-resource variables are not supported in the long term\n"
          ]
        }
      ]
    },
    {
      "cell_type": "code",
      "source": [
        "# CIFAR-10 데이터 다운로드 & 불러오기\n",
        "(x_train, y_train), (x_test, y_test) = load_data()\n",
        "# scalar 형태의 레이블(0~9)을 One-hot Encoding 형태로 변환\n",
        "y_train_one_hot = tf.squeeze(tf.one_hot(y_train, 10),axis=1)\n",
        "y_test_one_hot = tf.squeeze(tf.one_hot(y_test, 10),axis=1)"
      ],
      "metadata": {
        "colab": {
          "base_uri": "https://localhost:8080/"
        },
        "id": "KiCHcFHovqKq",
        "outputId": "0bda4cdb-77e9-4aa3-e037-0a2a59c8a6ac"
      },
      "execution_count": 7,
      "outputs": [
        {
          "output_type": "stream",
          "name": "stdout",
          "text": [
            "Downloading data from https://www.cs.toronto.edu/~kriz/cifar-10-python.tar.gz\n",
            "170498071/170498071 [==============================] - 12s 0us/step\n"
          ]
        }
      ]
    },
    {
      "cell_type": "code",
      "source": [
        "# Convolutional Neural Networks(CNN) 그래프 생성\n",
        "y_pred, logits = build_CNN_classifier(x)\n",
        "\n",
        "# Cross Entropy를 비용함수(loss function)으로 정의, RMSPropOptimizer를 이용해서 비용 함수를 최소화\n",
        "loss = tf.reduce_mean(tf.nn.softmax_cross_entropy_with_logits(labels=y, logits=logits))\n",
        "train_step = tf.train.RMSPropOptimizer(1e-3).minimize(loss)"
      ],
      "metadata": {
        "colab": {
          "base_uri": "https://localhost:8080/"
        },
        "id": "C-NlCH1evqNL",
        "outputId": "bd669290-b4c7-4b60-c4cd-07b65190ed72"
      },
      "execution_count": 8,
      "outputs": [
        {
          "output_type": "stream",
          "name": "stderr",
          "text": [
            "WARNING:tensorflow:From /usr/local/lib/python3.9/dist-packages/tensorflow/python/util/dispatch.py:1176: calling dropout (from tensorflow.python.ops.nn_ops) with keep_prob is deprecated and will be removed in a future version.\n",
            "Instructions for updating:\n",
            "Please use `rate` instead of `keep_prob`. Rate should be set to `rate = 1 - keep_prob`.\n",
            "WARNING:tensorflow:From /usr/local/lib/python3.9/dist-packages/tensorflow/python/util/dispatch.py:1176: softmax_cross_entropy_with_logits (from tensorflow.python.ops.nn_ops) is deprecated and will be removed in a future version.\n",
            "Instructions for updating:\n",
            "\n",
            "Future major versions of TensorFlow will allow gradients to flow\n",
            "into the labels input on backprop by default.\n",
            "\n",
            "See `tf.nn.softmax_cross_entropy_with_logits_v2`.\n",
            "\n",
            "WARNING:tensorflow:From /usr/local/lib/python3.9/dist-packages/tensorflow/python/training/rmsprop.py:188: calling Ones.__init__ (from tensorflow.python.ops.init_ops) with dtype is deprecated and will be removed in a future version.\n",
            "Instructions for updating:\n",
            "Call initializer instance with the dtype argument instead of passing it to the constructor\n"
          ]
        }
      ]
    },
    {
      "cell_type": "code",
      "source": [
        "# 정확도 계산 연산 추가\n",
        "correct_prediction = tf.equal(tf.argmax(y_pred, 1), tf.argmax(y, 1))\n",
        "accuracy = tf.reduce_mean(tf.cast(correct_prediction, tf.float32))"
      ],
      "metadata": {
        "id": "AJk_-RiFvqPn"
      },
      "execution_count": 9,
      "outputs": []
    },
    {
      "cell_type": "code",
      "source": [
        "# 실제 학습 진행\n",
        "with tf.Session() as sess: \n",
        "  sess.run(tf.global_variables_initializer())\n",
        "  \n",
        "  # 10000 Step 최적화 수행\n",
        "  for i in range(10000):\n",
        "    batch = next_batch(128, x_train, y_train_one_hot.eval())\n",
        "\n",
        "    # 100 Step마다 training 데이터셋에 대한 정확도와 loss 출력\n",
        "    if i % 100 == 0:\n",
        "      train_accuracy = accuracy.eval(feed_dict={x: batch[0], y: batch[1], keep_prob: 1.0})\n",
        "      loss_print = loss.eval(feed_dict={x: batch[0], y: batch[1], keep_prob: 1.0})\n",
        "\n",
        "      print(\"반복(Epoch): %d, 트레이닝 데이터 정확도: %f, 손실 함수(loss): %f\" % (i, train_accuracy, loss_print))\n",
        "    # 20% 확률의 Dropout을 이용해서 학습 진행\n",
        "    sess.run(train_step, feed_dict={x: batch[0], y: batch[1], keep_prob: 0.8})\n",
        "\n",
        "  # 학습이 끝나면 테스트 데이터(10000개)에 대한 정확도를 출력  \n",
        "  test_accuracy = 0.0  \n",
        "  for i in range(10):\n",
        "    test_batch = next_batch(1000, x_test, y_test_one_hot.eval())\n",
        "    test_accuracy = test_accuracy + accuracy.eval(feed_dict={x: test_batch[0], y: test_batch[1], keep_prob: 1.0})\n",
        "  test_accuracy = test_accuracy / 10;\n",
        "  print(\"테스트 데이터 정확도: %f\" % test_accuracy)"
      ],
      "metadata": {
        "colab": {
          "base_uri": "https://localhost:8080/"
        },
        "id": "hjMWtH-bvqRo",
        "outputId": "3175bf11-dd86-4224-846b-3f49291dc919"
      },
      "execution_count": 10,
      "outputs": [
        {
          "output_type": "stream",
          "name": "stdout",
          "text": [
            "반복(Epoch): 0, 트레이닝 데이터 정확도: 0.132812, 손실 함수(loss): 135.744675\n",
            "반복(Epoch): 100, 트레이닝 데이터 정확도: 0.117188, 손실 함수(loss): 2.515899\n",
            "반복(Epoch): 200, 트레이닝 데이터 정확도: 0.242188, 손실 함수(loss): 2.069960\n",
            "반복(Epoch): 300, 트레이닝 데이터 정확도: 0.218750, 손실 함수(loss): 2.169713\n",
            "반복(Epoch): 400, 트레이닝 데이터 정확도: 0.351562, 손실 함수(loss): 1.883044\n",
            "반복(Epoch): 500, 트레이닝 데이터 정확도: 0.429688, 손실 함수(loss): 1.565647\n",
            "반복(Epoch): 600, 트레이닝 데이터 정확도: 0.335938, 손실 함수(loss): 1.854719\n",
            "반복(Epoch): 700, 트레이닝 데이터 정확도: 0.531250, 손실 함수(loss): 1.491057\n",
            "반복(Epoch): 800, 트레이닝 데이터 정확도: 0.562500, 손실 함수(loss): 1.461697\n",
            "반복(Epoch): 900, 트레이닝 데이터 정확도: 0.531250, 손실 함수(loss): 1.252760\n",
            "반복(Epoch): 1000, 트레이닝 데이터 정확도: 0.562500, 손실 함수(loss): 1.203849\n",
            "반복(Epoch): 1100, 트레이닝 데이터 정확도: 0.515625, 손실 함수(loss): 1.317173\n",
            "반복(Epoch): 1200, 트레이닝 데이터 정확도: 0.531250, 손실 함수(loss): 1.459018\n",
            "반복(Epoch): 1300, 트레이닝 데이터 정확도: 0.554688, 손실 함수(loss): 1.303578\n",
            "반복(Epoch): 1400, 트레이닝 데이터 정확도: 0.523438, 손실 함수(loss): 1.220593\n",
            "반복(Epoch): 1500, 트레이닝 데이터 정확도: 0.570312, 손실 함수(loss): 1.115151\n",
            "반복(Epoch): 1600, 트레이닝 데이터 정확도: 0.609375, 손실 함수(loss): 1.010984\n",
            "반복(Epoch): 1700, 트레이닝 데이터 정확도: 0.601562, 손실 함수(loss): 1.220168\n",
            "반복(Epoch): 1800, 트레이닝 데이터 정확도: 0.593750, 손실 함수(loss): 1.252552\n",
            "반복(Epoch): 1900, 트레이닝 데이터 정확도: 0.664062, 손실 함수(loss): 1.051865\n",
            "반복(Epoch): 2000, 트레이닝 데이터 정확도: 0.601562, 손실 함수(loss): 1.077558\n",
            "반복(Epoch): 2100, 트레이닝 데이터 정확도: 0.593750, 손실 함수(loss): 1.268149\n",
            "반복(Epoch): 2200, 트레이닝 데이터 정확도: 0.679688, 손실 함수(loss): 0.857243\n",
            "반복(Epoch): 2300, 트레이닝 데이터 정확도: 0.718750, 손실 함수(loss): 0.824374\n",
            "반복(Epoch): 2400, 트레이닝 데이터 정확도: 0.687500, 손실 함수(loss): 0.978862\n",
            "반복(Epoch): 2500, 트레이닝 데이터 정확도: 0.648438, 손실 함수(loss): 1.035860\n",
            "반복(Epoch): 2600, 트레이닝 데이터 정확도: 0.703125, 손실 함수(loss): 0.965077\n",
            "반복(Epoch): 2700, 트레이닝 데이터 정확도: 0.593750, 손실 함수(loss): 1.176851\n",
            "반복(Epoch): 2800, 트레이닝 데이터 정확도: 0.664062, 손실 함수(loss): 0.951870\n",
            "반복(Epoch): 2900, 트레이닝 데이터 정확도: 0.648438, 손실 함수(loss): 0.889068\n",
            "반복(Epoch): 3000, 트레이닝 데이터 정확도: 0.695312, 손실 함수(loss): 0.758141\n",
            "반복(Epoch): 3100, 트레이닝 데이터 정확도: 0.484375, 손실 함수(loss): 1.437415\n",
            "반복(Epoch): 3200, 트레이닝 데이터 정확도: 0.687500, 손실 함수(loss): 1.081755\n",
            "반복(Epoch): 3300, 트레이닝 데이터 정확도: 0.656250, 손실 함수(loss): 1.311545\n",
            "반복(Epoch): 3400, 트레이닝 데이터 정확도: 0.687500, 손실 함수(loss): 1.133346\n",
            "반복(Epoch): 3500, 트레이닝 데이터 정확도: 0.531250, 손실 함수(loss): 1.357192\n",
            "반복(Epoch): 3600, 트레이닝 데이터 정확도: 0.726562, 손실 함수(loss): 0.899548\n",
            "반복(Epoch): 3700, 트레이닝 데이터 정확도: 0.757812, 손실 함수(loss): 0.701928\n",
            "반복(Epoch): 3800, 트레이닝 데이터 정확도: 0.734375, 손실 함수(loss): 0.813962\n",
            "반복(Epoch): 3900, 트레이닝 데이터 정확도: 0.554688, 손실 함수(loss): 1.173444\n",
            "반복(Epoch): 4000, 트레이닝 데이터 정확도: 0.656250, 손실 함수(loss): 0.919952\n",
            "반복(Epoch): 4100, 트레이닝 데이터 정확도: 0.710938, 손실 함수(loss): 0.953593\n",
            "반복(Epoch): 4200, 트레이닝 데이터 정확도: 0.734375, 손실 함수(loss): 0.807259\n",
            "반복(Epoch): 4300, 트레이닝 데이터 정확도: 0.640625, 손실 함수(loss): 1.045807\n",
            "반복(Epoch): 4400, 트레이닝 데이터 정확도: 0.703125, 손실 함수(loss): 0.921008\n",
            "반복(Epoch): 4500, 트레이닝 데이터 정확도: 0.679688, 손실 함수(loss): 0.970183\n",
            "반복(Epoch): 4600, 트레이닝 데이터 정확도: 0.687500, 손실 함수(loss): 0.860360\n",
            "반복(Epoch): 4700, 트레이닝 데이터 정확도: 0.750000, 손실 함수(loss): 0.746431\n",
            "반복(Epoch): 4800, 트레이닝 데이터 정확도: 0.656250, 손실 함수(loss): 1.073334\n",
            "반복(Epoch): 4900, 트레이닝 데이터 정확도: 0.671875, 손실 함수(loss): 1.074003\n",
            "반복(Epoch): 5000, 트레이닝 데이터 정확도: 0.656250, 손실 함수(loss): 1.026170\n",
            "반복(Epoch): 5100, 트레이닝 데이터 정확도: 0.718750, 손실 함수(loss): 0.911914\n",
            "반복(Epoch): 5200, 트레이닝 데이터 정확도: 0.695312, 손실 함수(loss): 0.834292\n",
            "반복(Epoch): 5300, 트레이닝 데이터 정확도: 0.476562, 손실 함수(loss): 1.624194\n",
            "반복(Epoch): 5400, 트레이닝 데이터 정확도: 0.625000, 손실 함수(loss): 0.999181\n",
            "반복(Epoch): 5500, 트레이닝 데이터 정확도: 0.640625, 손실 함수(loss): 1.033630\n",
            "반복(Epoch): 5600, 트레이닝 데이터 정확도: 0.664062, 손실 함수(loss): 0.998068\n",
            "반복(Epoch): 5700, 트레이닝 데이터 정확도: 0.632812, 손실 함수(loss): 1.178006\n",
            "반복(Epoch): 5800, 트레이닝 데이터 정확도: 0.687500, 손실 함수(loss): 0.881649\n",
            "반복(Epoch): 5900, 트레이닝 데이터 정확도: 0.578125, 손실 함수(loss): 1.218277\n",
            "반복(Epoch): 6000, 트레이닝 데이터 정확도: 0.695312, 손실 함수(loss): 0.757059\n",
            "반복(Epoch): 6100, 트레이닝 데이터 정확도: 0.570312, 손실 함수(loss): 1.256598\n",
            "반복(Epoch): 6200, 트레이닝 데이터 정확도: 0.671875, 손실 함수(loss): 0.913190\n",
            "반복(Epoch): 6300, 트레이닝 데이터 정확도: 0.625000, 손실 함수(loss): 1.028474\n",
            "반복(Epoch): 6400, 트레이닝 데이터 정확도: 0.687500, 손실 함수(loss): 0.782513\n",
            "반복(Epoch): 6500, 트레이닝 데이터 정확도: 0.656250, 손실 함수(loss): 0.909317\n",
            "반복(Epoch): 6600, 트레이닝 데이터 정확도: 0.570312, 손실 함수(loss): 1.178246\n",
            "반복(Epoch): 6700, 트레이닝 데이터 정확도: 0.648438, 손실 함수(loss): 1.131640\n",
            "반복(Epoch): 6800, 트레이닝 데이터 정확도: 0.796875, 손실 함수(loss): 0.666971\n",
            "반복(Epoch): 6900, 트레이닝 데이터 정확도: 0.734375, 손실 함수(loss): 0.754959\n",
            "반복(Epoch): 7000, 트레이닝 데이터 정확도: 0.718750, 손실 함수(loss): 0.772680\n",
            "반복(Epoch): 7100, 트레이닝 데이터 정확도: 0.679688, 손실 함수(loss): 1.203313\n",
            "반복(Epoch): 7200, 트레이닝 데이터 정확도: 0.750000, 손실 함수(loss): 0.729564\n",
            "반복(Epoch): 7300, 트레이닝 데이터 정확도: 0.578125, 손실 함수(loss): 1.021233\n",
            "반복(Epoch): 7400, 트레이닝 데이터 정확도: 0.664062, 손실 함수(loss): 1.109727\n",
            "반복(Epoch): 7500, 트레이닝 데이터 정확도: 0.687500, 손실 함수(loss): 0.868217\n",
            "반복(Epoch): 7600, 트레이닝 데이터 정확도: 0.789062, 손실 함수(loss): 0.708064\n",
            "반복(Epoch): 7700, 트레이닝 데이터 정확도: 0.789062, 손실 함수(loss): 0.619178\n",
            "반복(Epoch): 7800, 트레이닝 데이터 정확도: 0.632812, 손실 함수(loss): 1.074121\n",
            "반복(Epoch): 7900, 트레이닝 데이터 정확도: 0.664062, 손실 함수(loss): 0.890436\n",
            "반복(Epoch): 8000, 트레이닝 데이터 정확도: 0.796875, 손실 함수(loss): 0.661161\n",
            "반복(Epoch): 8100, 트레이닝 데이터 정확도: 0.726562, 손실 함수(loss): 0.836732\n",
            "반복(Epoch): 8200, 트레이닝 데이터 정확도: 0.734375, 손실 함수(loss): 0.819541\n",
            "반복(Epoch): 8300, 트레이닝 데이터 정확도: 0.757812, 손실 함수(loss): 0.721188\n",
            "반복(Epoch): 8400, 트레이닝 데이터 정확도: 0.695312, 손실 함수(loss): 1.019071\n",
            "반복(Epoch): 8500, 트레이닝 데이터 정확도: 0.539062, 손실 함수(loss): 1.128006\n",
            "반복(Epoch): 8600, 트레이닝 데이터 정확도: 0.726562, 손실 함수(loss): 0.829375\n",
            "반복(Epoch): 8700, 트레이닝 데이터 정확도: 0.718750, 손실 함수(loss): 0.882578\n",
            "반복(Epoch): 8800, 트레이닝 데이터 정확도: 0.757812, 손실 함수(loss): 0.739211\n",
            "반복(Epoch): 8900, 트레이닝 데이터 정확도: 0.664062, 손실 함수(loss): 0.935703\n",
            "반복(Epoch): 9000, 트레이닝 데이터 정확도: 0.750000, 손실 함수(loss): 0.832493\n",
            "반복(Epoch): 9100, 트레이닝 데이터 정확도: 0.679688, 손실 함수(loss): 0.851601\n",
            "반복(Epoch): 9200, 트레이닝 데이터 정확도: 0.625000, 손실 함수(loss): 1.068709\n",
            "반복(Epoch): 9300, 트레이닝 데이터 정확도: 0.687500, 손실 함수(loss): 0.840320\n",
            "반복(Epoch): 9400, 트레이닝 데이터 정확도: 0.695312, 손실 함수(loss): 0.920148\n",
            "반복(Epoch): 9500, 트레이닝 데이터 정확도: 0.734375, 손실 함수(loss): 1.050779\n",
            "반복(Epoch): 9600, 트레이닝 데이터 정확도: 0.625000, 손실 함수(loss): 1.583146\n",
            "반복(Epoch): 9700, 트레이닝 데이터 정확도: 0.781250, 손실 함수(loss): 0.740660\n",
            "반복(Epoch): 9800, 트레이닝 데이터 정확도: 0.570312, 손실 함수(loss): 1.277595\n",
            "반복(Epoch): 9900, 트레이닝 데이터 정확도: 0.562500, 손실 함수(loss): 1.297974\n",
            "테스트 데이터 정확도: 0.659200\n"
          ]
        }
      ]
    },
    {
      "cell_type": "code",
      "source": [],
      "metadata": {
        "id": "c8_YBYYDvqT6"
      },
      "execution_count": null,
      "outputs": []
    },
    {
      "cell_type": "code",
      "source": [],
      "metadata": {
        "id": "4GhqqBlhvqWX"
      },
      "execution_count": null,
      "outputs": []
    },
    {
      "cell_type": "code",
      "source": [],
      "metadata": {
        "id": "hIYE7q0ovqYZ"
      },
      "execution_count": null,
      "outputs": []
    },
    {
      "cell_type": "code",
      "source": [],
      "metadata": {
        "id": "1o5IeA8Uvqah"
      },
      "execution_count": null,
      "outputs": []
    },
    {
      "cell_type": "code",
      "source": [],
      "metadata": {
        "id": "LH4MK8A9vqcn"
      },
      "execution_count": null,
      "outputs": []
    }
  ]
}